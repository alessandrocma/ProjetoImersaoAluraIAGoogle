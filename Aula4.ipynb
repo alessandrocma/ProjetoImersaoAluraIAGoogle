{
  "nbformat": 4,
  "nbformat_minor": 0,
  "metadata": {
    "colab": {
      "provenance": [],
      "authorship_tag": "ABX9TyOe3dQD/+iM9OM2tawwsRbQ",
      "include_colab_link": true
    },
    "kernelspec": {
      "name": "python3",
      "display_name": "Python 3"
    },
    "language_info": {
      "name": "python"
    }
  },
  "cells": [
    {
      "cell_type": "markdown",
      "metadata": {
        "id": "view-in-github",
        "colab_type": "text"
      },
      "source": [
        "<a href=\"https://colab.research.google.com/github/alessandrocma/ProjetoImersaoAluraIAGoogle/blob/main/Aula4.ipynb\" target=\"_parent\"><img src=\"https://colab.research.google.com/assets/colab-badge.svg\" alt=\"Open In Colab\"/></a>"
      ]
    },
    {
      "cell_type": "code",
      "execution_count": 1,
      "metadata": {
        "id": "ZA6GD4YMKECW"
      },
      "outputs": [],
      "source": [
        "#!pip install -q -U google-generativeai"
      ]
    },
    {
      "cell_type": "code",
      "source": [
        "# Import the Python SDK\n",
        "import google.generativeai as genai\n",
        "# Used to securely store your API key\n",
        "from google.colab import userdata\n",
        "\n",
        "GOOGLE_API_KEY=userdata.get(\"GOOGLE_API_KEY\")\n",
        "genai.configure(api_key=GOOGLE_API_KEY)\n",
        "\n",
        "model = genai.GenerativeModel('gemini-pro')"
      ],
      "metadata": {
        "id": "FBHQtQn6KPqT"
      },
      "execution_count": 2,
      "outputs": []
    },
    {
      "cell_type": "code",
      "source": [
        "#response = model.generate_content(\"Sou profissional de TI. Tenho uma boa experienncia com Java mas estou meio enferrujado. Não conheço Python mas quero aprender juntamente com IA. Qual a melhor forma para aprender sobre IA?\")\n",
        "#print(response.text)"
      ],
      "metadata": {
        "id": "AprDr6uYKSPJ"
      },
      "execution_count": 14,
      "outputs": []
    },
    {
      "cell_type": "markdown",
      "source": [
        "Listar os modelos disponíveis"
      ],
      "metadata": {
        "id": "jsmqnvC2KwlD"
      }
    },
    {
      "cell_type": "code",
      "source": [
        "for i in genai.list_models():\n",
        "  if 'generateContent' in i.supported_generation_methods:\n",
        "    print(i.name)"
      ],
      "metadata": {
        "colab": {
          "base_uri": "https://localhost:8080/",
          "height": 139
        },
        "id": "_yH2kOXwKvoL",
        "outputId": "1ba5e39c-afd9-49ea-888c-3e249527948b"
      },
      "execution_count": 3,
      "outputs": [
        {
          "output_type": "stream",
          "name": "stdout",
          "text": [
            "models/gemini-1.0-pro\n",
            "models/gemini-1.0-pro-001\n",
            "models/gemini-1.0-pro-latest\n",
            "models/gemini-1.0-pro-vision-latest\n",
            "models/gemini-1.5-pro-latest\n",
            "models/gemini-pro\n",
            "models/gemini-pro-vision\n"
          ]
        }
      ]
    },
    {
      "cell_type": "code",
      "source": [
        "generation_config_settings = {\n",
        "    \"candidate_count\": 1,\n",
        "    \"temperature\": 0.5,\n",
        "    #\"top_p\": 0.95,\n",
        "    #\"top_k\": 35,\n",
        "    #\"max_output_tokens\": 1000,\n",
        "}\n",
        "\n",
        "safety_config_settings = {\n",
        "    \"HARASSMENT\": \"BLOCK_NONE\",\n",
        "    \"HATE\": \"BLOCK_NONE\",\n",
        "    \"SEXUAL\": \"BLOCK_NONE\",\n",
        "    \"DANGEROUS\": \"BLOCK_NONE\",\n",
        "    #\"category\": \"HARM_CATEGORY_HARASSMENT\",\n",
        "    #\"threshold\": \"BLOCK_MEDIUM_AND_ABOVE\",\n",
        "}"
      ],
      "metadata": {
        "id": "Jfftw2urLwpr"
      },
      "execution_count": 4,
      "outputs": []
    },
    {
      "cell_type": "markdown",
      "source": [
        "Inicializando o modelo"
      ],
      "metadata": {
        "id": "p2v0-VuqM7W1"
      }
    },
    {
      "cell_type": "code",
      "source": [
        "model = genai.GenerativeModel(model_name=\"gemini-1.5-pro-latest\",generation_config=generation_config_settings,safety_settings=safety_config_settings)"
      ],
      "metadata": {
        "id": "BIcB27d3M4st"
      },
      "execution_count": 5,
      "outputs": []
    },
    {
      "cell_type": "code",
      "source": [
        "response = model.generate_content(\"Sou profissional de TI. Tenho uma boa experienncia com Java mas estou meio enferrujado. Não conheço Python mas quero aprender juntamente com IA. Qual a melhor forma para aprender sobre IA?\")\n",
        "print(response.text)"
      ],
      "metadata": {
        "colab": {
          "base_uri": "https://localhost:8080/",
          "height": 697
        },
        "id": "Sh460CiPN56u",
        "outputId": "a5e7ae7f-12be-4396-c742-fc9b7cf923d1"
      },
      "execution_count": 6,
      "outputs": [
        {
          "output_type": "stream",
          "name": "stdout",
          "text": [
            "É ótimo saber que você quer se aventurar no mundo da IA com Python! É uma decisão inteligente, visto que Python é a linguagem mais popular para IA, com diversas bibliotecas e frameworks poderosos. \n",
            "\n",
            "Como você já tem experiência em Java, aprender Python será mais fácil do que imagina. As duas linguagens compartilham muitas similaridades em termos de lógica de programação. \n",
            "\n",
            "Aqui está um guia detalhado para você aprender IA com Python, considerando sua experiência em Java:\n",
            "\n",
            "**1. Relembrar e Adaptar:**\n",
            "\n",
            "* **Revise os conceitos básicos de programação:** Comece relembrando os fundamentos de programação que você já domina em Java, como variáveis, loops, funções, estruturas de dados, etc. \n",
            "* **Aprenda a sintaxe de Python:** Python é conhecido por sua sintaxe clara e concisa. Foque nas diferenças em relação ao Java, como a ausência de chaves e o uso de indentação para definir blocos de código. Existem diversos sites e cursos online gratuitos que ensinam o básico de Python.\n",
            "* **Explore as bibliotecas padrão de Python:** Familiarize-se com bibliotecas como `math`, `random`, `datetime`, etc., que serão úteis em seus projetos de IA.\n",
            "\n",
            "**2. Mergulhando em Python para IA:**\n",
            "\n",
            "* **Domine as bibliotecas essenciais:**\n",
            "    * **NumPy:** Para trabalhar com arrays multidimensionais, essencial para manipulação de dados em IA.\n",
            "    * **Pandas:** Para análise e manipulação de dados, ideal para preparar seus datasets.\n",
            "    * **Matplotlib e Seaborn:** Para visualização de dados, crucial para entender seus dados e resultados.\n",
            "* **Comece com Machine Learning:**\n",
            "    * **Scikit-learn:** Uma biblioteca poderosa e fácil de usar para os principais algoritmos de Machine Learning, como regressão linear, máquinas de vetores de suporte e árvores de decisão.\n",
            "* **Explore Deep Learning:**\n",
            "    * **TensorFlow ou PyTorch:** Frameworks populares para construir e treinar redes neurais, permitindo criar modelos complexos para tarefas como reconhecimento de imagem e processamento de linguagem natural.\n",
            "\n",
            "**3. Recursos e Estratégias de Aprendizagem:**\n",
            "\n",
            "* **Cursos online:** Plataformas como Coursera, edX, Udacity e Udemy oferecem cursos completos sobre IA com Python, desde o básico até tópicos avançados.\n",
            "* **Livros:** Existem excelentes livros sobre IA com Python, como \"Hands-On Machine Learning with Scikit-Learn, Keras & TensorFlow\" de Aurélien Géron e \"Deep Learning with Python\" de François Chollet.\n",
            "* **Projetos práticos:** A melhor forma de aprender é colocando a mão na massa! Comece com projetos simples e vá aumentando a complexidade gradualmente.\n",
            "* **Comunidade:** Participe de fóruns online, grupos de estudo e eventos sobre IA para interagir com outros entusiastas e aprender com suas experiências.\n",
            "\n",
            "**Lembre-se:**\n",
            "\n",
            "* **Consistência é fundamental:** Dedique tempo regularmente para estudar e praticar.\n",
            "* **Comece com o básico e avance gradualmente:** Não se sinta pressionado a aprender tudo de uma vez.\n",
            "* **Divirta-se!** A IA é um campo fascinante e cheio de oportunidades. Explore, experimente e aproveite a jornada!\n",
            "\n",
            "Com dedicação e esforço, você estará dominando a IA com Python em pouco tempo! 😊 \n",
            "\n"
          ]
        }
      ]
    },
    {
      "cell_type": "markdown",
      "source": [
        "Construindo um bot"
      ],
      "metadata": {
        "id": "XBzIy3q70POn"
      }
    },
    {
      "cell_type": "code",
      "source": [
        "chat = model.start_chat(history=[])\n",
        "\n",
        "prompt = input(\"Digite o prompt: \")\n",
        "\n",
        "while prompt != \"fim\":\n",
        "  response = chat.send_message(prompt)\n",
        "  print(\"Resposta: \",response.text,\"\\n\")\n",
        "  prompt = input(\"Digite o prompt: \")\n"
      ],
      "metadata": {
        "colab": {
          "base_uri": "https://localhost:8080/",
          "height": 104
        },
        "id": "c7r0JxqFzx9y",
        "outputId": "d0befd7f-ed2b-4cdb-8b3b-8c455a096708"
      },
      "execution_count": 7,
      "outputs": [
        {
          "name": "stdout",
          "output_type": "stream",
          "text": [
            "Digite o prompt: Qual a capital do Brasil?\n",
            "Resposta:  A capital do Brasil é **Brasília**. \n",
            " \n",
            "\n",
            "Digite o prompt: fim\n"
          ]
        }
      ]
    },
    {
      "cell_type": "code",
      "source": [
        "chat.history\n",
        "\n",
        "import textwrap\n",
        "from IPython.display import display\n",
        "from IPython.display import Markdown\n",
        "\n",
        "\n",
        "def to_markdown(text):\n",
        "  text = text.replace('•', '  *')\n",
        "  return Markdown(textwrap.indent(text, '> ', predicate=lambda _: True))\n",
        "\n",
        "#imprimindo o historico\n",
        "for message in chat.history:\n",
        "  display(to_markdown(f'**{message.role}**: {message.parts[0].text}'))"
      ],
      "metadata": {
        "colab": {
          "base_uri": "https://localhost:8080/",
          "height": 94
        },
        "id": "k9gqsXhf1r7F",
        "outputId": "7a7e6ea1-1d56-40e6-f01e-521f495878fe"
      },
      "execution_count": 8,
      "outputs": [
        {
          "output_type": "display_data",
          "data": {
            "text/plain": [
              "<IPython.core.display.Markdown object>"
            ],
            "text/markdown": "> **user**: Qual a capital do Brasil?"
          },
          "metadata": {}
        },
        {
          "output_type": "display_data",
          "data": {
            "text/plain": [
              "<IPython.core.display.Markdown object>"
            ],
            "text/markdown": "> **model**: A capital do Brasil é **Brasília**. \n"
          },
          "metadata": {}
        }
      ]
    }
  ]
}